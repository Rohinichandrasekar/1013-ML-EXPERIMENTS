{
 "cells": [
  {
   "cell_type": "code",
   "execution_count": 4,
   "metadata": {},
   "outputs": [],
   "source": [
    "import numpy as np \n",
    "import pandas as pd"
   ]
  },
  {
   "cell_type": "code",
   "execution_count": 5,
   "metadata": {},
   "outputs": [],
   "source": [
    "data = pd.read_csv('E:/2.csv')"
   ]
  },
  {
   "cell_type": "code",
   "execution_count": 6,
   "metadata": {},
   "outputs": [
    {
     "name": "stdout",
     "output_type": "stream",
     "text": [
      "Initial Specific Hypothesis: ['sunny' 'warm' 'normal' 'strong' 'warm' 'same']\n",
      "Initial General Hypothesis: [['?', '?', '?', '?', '?', '?'], ['?', '?', '?', '?', '?', '?'], ['?', '?', '?', '?', '?', '?'], ['?', '?', '?', '?', '?', '?'], ['?', '?', '?', '?', '?', '?'], ['?', '?', '?', '?', '?', '?']]\n"
     ]
    }
   ],
   "source": [
    "concepts = np.array(data.iloc[:, :-1]) \n",
    "target = np.array(data.iloc[:, -1])  \n",
    "\n",
    "\n",
    "specific_h = concepts[0].copy()  \n",
    "general_h = [[\"?\" for _ in range(len(specific_h))] for _ in range(len(specific_h))]\n",
    "\n",
    "print(\"Initial Specific Hypothesis:\", specific_h)\n",
    "print(\"Initial General Hypothesis:\", general_h)"
   ]
  },
  {
   "cell_type": "code",
   "execution_count": 7,
   "metadata": {},
   "outputs": [],
   "source": [
    "for i, h in enumerate(concepts):\n",
    "    if target[i] == \"yes\":  # Positive example\n",
    "        for x in range(len(specific_h)): \n",
    "            if h[x] != specific_h[x]:  # Generalize specific_h\n",
    "                specific_h[x] = '?'  \n",
    "                for g in range(len(general_h)):\n",
    "                    general_h[g][x] = '?'  # Generalize general_h\n",
    "\n",
    "    elif target[i] == \"no\":  # Negative example\n",
    "        for x in range(len(specific_h)):\n",
    "            if h[x] != specific_h[x]:  # Specialize general_h\n",
    "                general_h[x][x] = specific_h[x]  "
   ]
  },
  {
   "cell_type": "code",
   "execution_count": 8,
   "metadata": {},
   "outputs": [
    {
     "name": "stdout",
     "output_type": "stream",
     "text": [
      "\n",
      "Final Specific Hypothesis: ['sunny' 'warm' '?' 'strong' '?' '?']\n",
      "Final General Hypothesis:\n",
      "['sunny', '?', '?', '?', '?', '?']\n",
      "['?', 'warm', '?', '?', '?', '?']\n"
     ]
    }
   ],
   "source": [
    "indices = [i for i, val in enumerate(general_h) if val == ['?', '?', '?', '?', '?', '?']]    \n",
    "for i in sorted(indices, reverse=True):\n",
    "    general_h.pop(i)  # Remove redundant entries\n",
    "\n",
    "# Step 4: Print final hypotheses\n",
    "print(\"\\nFinal Specific Hypothesis:\", specific_h)\n",
    "print(\"Final General Hypothesis:\")\n",
    "for row in general_h:\n",
    "    print(row)"
   ]
  }
 ],
 "metadata": {
  "kernelspec": {
   "display_name": "Python 3",
   "language": "python",
   "name": "python3"
  },
  "language_info": {
   "codemirror_mode": {
    "name": "ipython",
    "version": 3
   },
   "file_extension": ".py",
   "mimetype": "text/x-python",
   "name": "python",
   "nbconvert_exporter": "python",
   "pygments_lexer": "ipython3",
   "version": "3.12.10"
  }
 },
 "nbformat": 4,
 "nbformat_minor": 2
}
